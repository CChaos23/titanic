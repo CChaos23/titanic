{
 "cells": [
  {
   "cell_type": "code",
   "execution_count": 1,
   "id": "disturbed-charlotte",
   "metadata": {},
   "outputs": [],
   "source": [
    "import pandas as pd\n",
    "import numpy as np\n",
    "from sklearn.naive_bayes import GaussianNB\n",
    "from sklearn.neighbors import KNeighborsClassifier"
   ]
  },
  {
   "cell_type": "code",
   "execution_count": 2,
   "id": "constitutional-potter",
   "metadata": {},
   "outputs": [],
   "source": [
    "df = pd.read_csv('E:\\\\Dropbox\\\\School\\\\20-21 S2\\\\Software Methods\\\\Titanic\\\\Data\\\\titanic.csv')"
   ]
  },
  {
   "cell_type": "code",
   "execution_count": 3,
   "id": "republican-celtic",
   "metadata": {},
   "outputs": [
    {
     "data": {
      "text/html": [
       "<div>\n",
       "<style scoped>\n",
       "    .dataframe tbody tr th:only-of-type {\n",
       "        vertical-align: middle;\n",
       "    }\n",
       "\n",
       "    .dataframe tbody tr th {\n",
       "        vertical-align: top;\n",
       "    }\n",
       "\n",
       "    .dataframe thead th {\n",
       "        text-align: right;\n",
       "    }\n",
       "</style>\n",
       "<table border=\"1\" class=\"dataframe\">\n",
       "  <thead>\n",
       "    <tr style=\"text-align: right;\">\n",
       "      <th></th>\n",
       "      <th>Survived</th>\n",
       "      <th>Pclass</th>\n",
       "      <th>Name</th>\n",
       "      <th>Sex</th>\n",
       "      <th>Age</th>\n",
       "      <th>Siblings/Spouses Aboard</th>\n",
       "      <th>Parents/Children Aboard</th>\n",
       "      <th>Fare</th>\n",
       "    </tr>\n",
       "  </thead>\n",
       "  <tbody>\n",
       "    <tr>\n",
       "      <th>0</th>\n",
       "      <td>0</td>\n",
       "      <td>3</td>\n",
       "      <td>Mr. Owen Harris Braund</td>\n",
       "      <td>male</td>\n",
       "      <td>22.0</td>\n",
       "      <td>1</td>\n",
       "      <td>0</td>\n",
       "      <td>7.2500</td>\n",
       "    </tr>\n",
       "    <tr>\n",
       "      <th>1</th>\n",
       "      <td>1</td>\n",
       "      <td>1</td>\n",
       "      <td>Mrs. John Bradley (Florence Briggs Thayer) Cum...</td>\n",
       "      <td>female</td>\n",
       "      <td>38.0</td>\n",
       "      <td>1</td>\n",
       "      <td>0</td>\n",
       "      <td>71.2833</td>\n",
       "    </tr>\n",
       "    <tr>\n",
       "      <th>2</th>\n",
       "      <td>1</td>\n",
       "      <td>3</td>\n",
       "      <td>Miss. Laina Heikkinen</td>\n",
       "      <td>female</td>\n",
       "      <td>26.0</td>\n",
       "      <td>0</td>\n",
       "      <td>0</td>\n",
       "      <td>7.9250</td>\n",
       "    </tr>\n",
       "  </tbody>\n",
       "</table>\n",
       "</div>"
      ],
      "text/plain": [
       "   Survived  Pclass                                               Name  \\\n",
       "0         0       3                             Mr. Owen Harris Braund   \n",
       "1         1       1  Mrs. John Bradley (Florence Briggs Thayer) Cum...   \n",
       "2         1       3                              Miss. Laina Heikkinen   \n",
       "\n",
       "      Sex   Age  Siblings/Spouses Aboard  Parents/Children Aboard     Fare  \n",
       "0    male  22.0                        1                        0   7.2500  \n",
       "1  female  38.0                        1                        0  71.2833  \n",
       "2  female  26.0                        0                        0   7.9250  "
      ]
     },
     "execution_count": 3,
     "metadata": {},
     "output_type": "execute_result"
    }
   ],
   "source": [
    "df.head(3)"
   ]
  },
  {
   "cell_type": "code",
   "execution_count": 4,
   "id": "relative-elevation",
   "metadata": {},
   "outputs": [],
   "source": [
    "df['Adult'] = np.where(df.Age >= 18, 1,  0)\n",
    "df['Sex'] = np.where(df.Sex == 'male', 1,  0)"
   ]
  },
  {
   "cell_type": "code",
   "execution_count": 5,
   "id": "aware-mounting",
   "metadata": {},
   "outputs": [
    {
     "data": {
      "text/html": [
       "<div>\n",
       "<style scoped>\n",
       "    .dataframe tbody tr th:only-of-type {\n",
       "        vertical-align: middle;\n",
       "    }\n",
       "\n",
       "    .dataframe tbody tr th {\n",
       "        vertical-align: top;\n",
       "    }\n",
       "\n",
       "    .dataframe thead th {\n",
       "        text-align: right;\n",
       "    }\n",
       "</style>\n",
       "<table border=\"1\" class=\"dataframe\">\n",
       "  <thead>\n",
       "    <tr style=\"text-align: right;\">\n",
       "      <th></th>\n",
       "      <th>Survived</th>\n",
       "      <th>Pclass</th>\n",
       "      <th>Name</th>\n",
       "      <th>Sex</th>\n",
       "      <th>Age</th>\n",
       "      <th>Siblings/Spouses Aboard</th>\n",
       "      <th>Parents/Children Aboard</th>\n",
       "      <th>Fare</th>\n",
       "      <th>Adult</th>\n",
       "    </tr>\n",
       "  </thead>\n",
       "  <tbody>\n",
       "    <tr>\n",
       "      <th>0</th>\n",
       "      <td>0</td>\n",
       "      <td>3</td>\n",
       "      <td>Mr. Owen Harris Braund</td>\n",
       "      <td>1</td>\n",
       "      <td>22.0</td>\n",
       "      <td>1</td>\n",
       "      <td>0</td>\n",
       "      <td>7.2500</td>\n",
       "      <td>1</td>\n",
       "    </tr>\n",
       "    <tr>\n",
       "      <th>1</th>\n",
       "      <td>1</td>\n",
       "      <td>1</td>\n",
       "      <td>Mrs. John Bradley (Florence Briggs Thayer) Cum...</td>\n",
       "      <td>0</td>\n",
       "      <td>38.0</td>\n",
       "      <td>1</td>\n",
       "      <td>0</td>\n",
       "      <td>71.2833</td>\n",
       "      <td>1</td>\n",
       "    </tr>\n",
       "    <tr>\n",
       "      <th>2</th>\n",
       "      <td>1</td>\n",
       "      <td>3</td>\n",
       "      <td>Miss. Laina Heikkinen</td>\n",
       "      <td>0</td>\n",
       "      <td>26.0</td>\n",
       "      <td>0</td>\n",
       "      <td>0</td>\n",
       "      <td>7.9250</td>\n",
       "      <td>1</td>\n",
       "    </tr>\n",
       "  </tbody>\n",
       "</table>\n",
       "</div>"
      ],
      "text/plain": [
       "   Survived  Pclass                                               Name  Sex  \\\n",
       "0         0       3                             Mr. Owen Harris Braund    1   \n",
       "1         1       1  Mrs. John Bradley (Florence Briggs Thayer) Cum...    0   \n",
       "2         1       3                              Miss. Laina Heikkinen    0   \n",
       "\n",
       "    Age  Siblings/Spouses Aboard  Parents/Children Aboard     Fare  Adult  \n",
       "0  22.0                        1                        0   7.2500      1  \n",
       "1  38.0                        1                        0  71.2833      1  \n",
       "2  26.0                        0                        0   7.9250      1  "
      ]
     },
     "execution_count": 5,
     "metadata": {},
     "output_type": "execute_result"
    }
   ],
   "source": [
    "df.head(3)"
   ]
  },
  {
   "cell_type": "code",
   "execution_count": 6,
   "id": "confident-mainland",
   "metadata": {},
   "outputs": [
    {
     "data": {
      "text/plain": [
       "(887, 9)"
      ]
     },
     "execution_count": 6,
     "metadata": {},
     "output_type": "execute_result"
    }
   ],
   "source": [
    "df.shape"
   ]
  },
  {
   "cell_type": "code",
   "execution_count": 7,
   "id": "working-security",
   "metadata": {},
   "outputs": [
    {
     "data": {
      "text/plain": [
       "0.3855693348365276"
      ]
     },
     "execution_count": 7,
     "metadata": {},
     "output_type": "execute_result"
    }
   ],
   "source": [
    "df['Survived'].sum()/len(df['Survived'])"
   ]
  },
  {
   "cell_type": "code",
   "execution_count": 8,
   "id": "japanese-contest",
   "metadata": {},
   "outputs": [],
   "source": [
    "train = df.sample(frac = 0.75)\n",
    "test = df.drop(train.index)"
   ]
  },
  {
   "cell_type": "code",
   "execution_count": 9,
   "id": "alleged-piece",
   "metadata": {},
   "outputs": [
    {
     "data": {
      "text/plain": [
       "(665, 9)"
      ]
     },
     "execution_count": 9,
     "metadata": {},
     "output_type": "execute_result"
    }
   ],
   "source": [
    "train.shape"
   ]
  },
  {
   "cell_type": "code",
   "execution_count": 10,
   "id": "roman-eight",
   "metadata": {},
   "outputs": [
    {
     "data": {
      "text/plain": [
       "(222, 9)"
      ]
     },
     "execution_count": 10,
     "metadata": {},
     "output_type": "execute_result"
    }
   ],
   "source": [
    "test.shape"
   ]
  },
  {
   "cell_type": "code",
   "execution_count": 11,
   "id": "supported-hospital",
   "metadata": {},
   "outputs": [],
   "source": [
    "def accuracy(a, b):\n",
    "    \n",
    "    # Test to see if lists are equal length.\n",
    "    if (len(a) != len(b)):\n",
    "        return ('Two columns need to be of equal length!')\n",
    "    \n",
    "    # If lists are equal length...\n",
    "    # Start at 0 correct\n",
    "    num_correct = 0\n",
    "    \n",
    "    # Going through every index of the list\n",
    "    for i in range(len(a)):        \n",
    "        if (a[i] == b[i]):\n",
    "            # If a == b at an index, add 1 to correct counter\n",
    "            num_correct += 1\n",
    "            \n",
    "    # Return total correct divided by total elements of list\n",
    "    return round(num_correct/len(a)*100, 1)"
   ]
  },
  {
   "cell_type": "code",
   "execution_count": 12,
   "id": "convinced-training",
   "metadata": {},
   "outputs": [
    {
     "data": {
      "text/plain": [
       "100.0"
      ]
     },
     "execution_count": 12,
     "metadata": {},
     "output_type": "execute_result"
    }
   ],
   "source": [
    "accuracy(df['Survived'],df['Survived'])"
   ]
  },
  {
   "cell_type": "code",
   "execution_count": 13,
   "id": "suited-metallic",
   "metadata": {},
   "outputs": [],
   "source": [
    "# important_factors = ['Pclass','Adult','Sex']\n",
    "important_factors = ['Pclass','Adult','Sex','Siblings/Spouses Aboard','Parents/Children Aboard']"
   ]
  },
  {
   "cell_type": "code",
   "execution_count": 14,
   "id": "valued-weekly",
   "metadata": {},
   "outputs": [],
   "source": [
    "X_train = train[important_factors]\n",
    "y_train = train['Survived']\n",
    "X_test = test[important_factors]\n",
    "y_test = test['Survived'].to_list()"
   ]
  },
  {
   "cell_type": "markdown",
   "id": "adolescent-endorsement",
   "metadata": {},
   "source": [
    "## Gaussian Naive Bayes Model"
   ]
  },
  {
   "cell_type": "code",
   "execution_count": 15,
   "id": "white-dynamics",
   "metadata": {
    "scrolled": true
   },
   "outputs": [
    {
     "data": {
      "text/plain": [
       "GaussianNB()"
      ]
     },
     "execution_count": 15,
     "metadata": {},
     "output_type": "execute_result"
    }
   ],
   "source": [
    "naive_bayes = GaussianNB()\n",
    "naive_bayes.fit(X_train,y_train)"
   ]
  },
  {
   "cell_type": "code",
   "execution_count": 16,
   "id": "innocent-consequence",
   "metadata": {},
   "outputs": [],
   "source": [
    "y_pred_nb = naive_bayes.predict(X_test)"
   ]
  },
  {
   "cell_type": "code",
   "execution_count": 17,
   "id": "wanted-length",
   "metadata": {
    "scrolled": true
   },
   "outputs": [],
   "source": [
    "y_pred_nb = y_pred_nb.tolist()"
   ]
  },
  {
   "cell_type": "code",
   "execution_count": 18,
   "id": "finnish-attendance",
   "metadata": {},
   "outputs": [
    {
     "name": "stdout",
     "output_type": "stream",
     "text": [
      "Gaussian Naive Bayes; Accuracy: 82.0%\n"
     ]
    }
   ],
   "source": [
    "print(\"Gaussian Naive Bayes; Accuracy: {}%\".format(accuracy(y_test, y_pred_nb)))"
   ]
  },
  {
   "cell_type": "markdown",
   "id": "optical-might",
   "metadata": {},
   "source": [
    "## KNN Model"
   ]
  },
  {
   "cell_type": "code",
   "execution_count": 19,
   "id": "swedish-jordan",
   "metadata": {
    "scrolled": false
   },
   "outputs": [
    {
     "name": "stdout",
     "output_type": "stream",
     "text": [
      "KNN - 1 neighbor; Accuracy: 80.6%\n",
      "KNN - 11 neighbors; Accuracy: 77.5%\n",
      "KNN - 21 neighbors; Accuracy: 84.2%\n",
      "KNN - 31 neighbors; Accuracy: 77.0%\n",
      "KNN - 41 neighbors; Accuracy: 83.8%\n",
      "KNN - 51 neighbors; Accuracy: 81.5%\n",
      "KNN - 61 neighbors; Accuracy: 82.0%\n",
      "KNN - 71 neighbors; Accuracy: 82.9%\n",
      "KNN - 81 neighbors; Accuracy: 82.9%\n",
      "KNN - 91 neighbors; Accuracy: 82.0%\n",
      "KNN - 101 neighbors; Accuracy: 82.0%\n",
      "KNN - 111 neighbors; Accuracy: 82.0%\n",
      "KNN - 121 neighbors; Accuracy: 81.5%\n",
      "KNN - 131 neighbors; Accuracy: 81.5%\n",
      "KNN - 141 neighbors; Accuracy: 82.4%\n",
      "KNN - 151 neighbors; Accuracy: 82.4%\n",
      "KNN - 161 neighbors; Accuracy: 82.9%\n",
      "KNN - 171 neighbors; Accuracy: 82.4%\n",
      "KNN - 181 neighbors; Accuracy: 82.9%\n",
      "KNN - 191 neighbors; Accuracy: 80.6%\n",
      "KNN - 201 neighbors; Accuracy: 80.2%\n",
      "KNN - 211 neighbors; Accuracy: 78.8%\n",
      "KNN - 221 neighbors; Accuracy: 78.4%\n"
     ]
    }
   ],
   "source": [
    "for i in range(1,len(test), 10):\n",
    "    knn = KNeighborsClassifier(n_neighbors=i)\n",
    "    knn.fit(X_train, y_train)\n",
    "    y_pred_knn = knn.predict(X_test)\n",
    "    y_pred_knn = y_pred_knn.tolist()\n",
    "    \n",
    "    if (i == 1):\n",
    "        plural = ''\n",
    "    else:\n",
    "        plural = 's'\n",
    "        \n",
    "    print(\"KNN - {} neighbor{}; Accuracy: {}%\".format(i, plural, accuracy(y_test, y_pred_knn)))"
   ]
  }
 ],
 "metadata": {
  "kernelspec": {
   "display_name": "Python 3",
   "language": "python",
   "name": "python3"
  },
  "language_info": {
   "codemirror_mode": {
    "name": "ipython",
    "version": 3
   },
   "file_extension": ".py",
   "mimetype": "text/x-python",
   "name": "python",
   "nbconvert_exporter": "python",
   "pygments_lexer": "ipython3",
   "version": "3.8.8"
  }
 },
 "nbformat": 4,
 "nbformat_minor": 5
}
